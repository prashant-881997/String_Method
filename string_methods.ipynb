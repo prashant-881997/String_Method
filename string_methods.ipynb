{
 "cells": [
  {
   "cell_type": "code",
   "execution_count": 76,
   "metadata": {},
   "outputs": [
    {
     "name": "stdout",
     "output_type": "stream",
     "text": [
      "My name is prashant tyagi\n"
     ]
    }
   ],
   "source": [
    "# capitalize method\n",
    "\n",
    "txt= \"my Name is Prashant TYAGI\"\n",
    "print(txt.capitalize())\n"
   ]
  },
  {
   "cell_type": "code",
   "execution_count": 77,
   "metadata": {},
   "outputs": [
    {
     "name": "stdout",
     "output_type": "stream",
     "text": [
      "my name is prashant tyagi\n"
     ]
    }
   ],
   "source": [
    "# casefold method\n",
    "\n",
    "caseffold = txt.casefold()\n",
    "print(caseffold)"
   ]
  },
  {
   "cell_type": "code",
   "execution_count": 78,
   "metadata": {},
   "outputs": [
    {
     "name": "stdout",
     "output_type": "stream",
     "text": [
      "**my name is prashant tyagi***\n",
      "            my Name is Prashant TYAGI             \n"
     ]
    }
   ],
   "source": [
    "# center method\n",
    "\n",
    "a = caseffold.center(30, \"*\")\n",
    "print(a)\n",
    "print(txt.center(50))"
   ]
  },
  {
   "cell_type": "code",
   "execution_count": 79,
   "metadata": {},
   "outputs": [
    {
     "name": "stdout",
     "output_type": "stream",
     "text": [
      "2\n",
      "4\n"
     ]
    }
   ],
   "source": [
    "# count method\n",
    "\n",
    "a = \"I love apples, apple are my favorite fruit\"\n",
    "b = a.count(\"apple\")\n",
    "print(b)\n",
    "\n",
    "a = \"I love apples, apple are my favorite fruit\"\n",
    "b = a.count(\"a\",2,42)\n",
    "print(b)"
   ]
  },
  {
   "cell_type": "code",
   "execution_count": 80,
   "metadata": {},
   "outputs": [
    {
     "name": "stdout",
     "output_type": "stream",
     "text": [
      "b'my name is Pr\\\\xe5sh\\\\xe5nt'\n",
      "b'my name is Prshnt'\n",
      "b'my name is Pr\\\\N{LATIN SMALL LETTER A WITH RING ABOVE}sh\\\\N{LATIN SMALL LETTER A WITH RING ABOVE}nt'\n",
      "b'my name is Pr?sh?nt'\n",
      "b'my name is Pr&#229;sh&#229;nt'\n"
     ]
    }
   ],
   "source": [
    "# encode  method\n",
    "\n",
    "name= \"my name is Pråshånt\"\n",
    "print(name.encode(encoding=\"ascii\", errors=\"backslashreplace\")) #uses a backslash instead of the character that could not be encoded\n",
    "print(name.encode(encoding=\"ascii\", errors=\"ignore\"))   #ignores the characters that cannot be encoded\n",
    "print(name.encode(encoding=\"ascii\", errors=\"namereplace\"))  #replaces the character with a text explaining the character\n",
    "#print(name.encode(encoding=\"ascii\", errors=\"strict\"))  # default, raises an error on failure\n",
    "print(name.encode(encoding=\"ascii\", errors=\"replace\"))  #replaces the character with a questionmark\n",
    "print(name.encode(encoding=\"ascii\", errors=\"xmlcharrefreplace\"))    #replaces the character with an xml character"
   ]
  },
  {
   "cell_type": "code",
   "execution_count": 81,
   "metadata": {},
   "outputs": [
    {
     "name": "stdout",
     "output_type": "stream",
     "text": [
      "True\n"
     ]
    }
   ],
   "source": [
    "# endswith method\n",
    "\n",
    "a = \"I love apples, apple are my favorite fruit\"\n",
    "print(a.endswith(\"fruit\", 1, 50))"
   ]
  },
  {
   "cell_type": "code",
   "execution_count": 82,
   "metadata": {},
   "outputs": [
    {
     "name": "stdout",
     "output_type": "stream",
     "text": [
      "        P       r       a       s       h       a       n       t\n"
     ]
    }
   ],
   "source": [
    "# expandtabs method\n",
    "\n",
    "txt= \"\\tP\\tr\\ta\\ts\\th\\ta\\tn\\tt\"\n",
    "print(txt.expandtabs())"
   ]
  },
  {
   "cell_type": "code",
   "execution_count": 83,
   "metadata": {},
   "outputs": [
    {
     "name": "stdout",
     "output_type": "stream",
     "text": [
      "12\n"
     ]
    }
   ],
   "source": [
    "# find method\n",
    "\n",
    "text = \"Hello, welcome to  my world\"\n",
    "print(text.find(\"m\"))"
   ]
  },
  {
   "cell_type": "code",
   "execution_count": 84,
   "metadata": {},
   "outputs": [
    {
     "name": "stdout",
     "output_type": "stream",
     "text": [
      "My name is Prashant Tyagi, I am 24\n",
      "My name is John Cena, I am 55\n",
      "My name is Will Smith, I am 60\n",
      "John's last name is Wick\n"
     ]
    }
   ],
   "source": [
    "# format method\n",
    "\n",
    "txt1 = \"My name is {fname} {lname}, I am {age}\"\n",
    "print(txt1.format(fname= \"Prashant\", lname= \"Tyagi\", age=24))\n",
    "\n",
    "txt2 = \"My name is {0} {1}, I am {2}\"\n",
    "print(txt2.format(\"John\", \"Cena\", 55))\n",
    "\n",
    "txt3 = \"My name is {} {}, I am {}\"\n",
    "print(txt3.format(\"Will\", \"Smith\", 60))\n",
    "\n",
    "# format_map method\n",
    "txt4 = {'x': 'John', 'y': 'Wick'}\n",
    "print(\"{x}'s last name is {y}\".format_map(txt4))"
   ]
  },
  {
   "cell_type": "code",
   "execution_count": 85,
   "metadata": {},
   "outputs": [
    {
     "name": "stdout",
     "output_type": "stream",
     "text": [
      "Barry is an Engineer and his age is 30.\n",
      "Bruce is an Doctor and his age is 35.\n"
     ]
    }
   ],
   "source": [
    "# format_map method\n",
    "\n",
    "profession = { 'name': ['Barry', 'Bruce'],\n",
    "              'profession': ['Engineer', 'Doctor'],\n",
    "              'age': [30, 35]}\n",
    "print('{name[0]} is an {profession[0]} and his age is {age[0]}.'.format_map(profession))\n",
    "print('{name[1]} is an {profession[1]} and his age is {age[1]}.'.format_map(profession))"
   ]
  },
  {
   "cell_type": "code",
   "execution_count": 86,
   "metadata": {},
   "outputs": [
    {
     "name": "stdout",
     "output_type": "stream",
     "text": [
      "11\n"
     ]
    }
   ],
   "source": [
    "# index method\n",
    "txt=\"My name is Prashant\"\n",
    "print(txt.index(\"Prashant\",0,24))"
   ]
  },
  {
   "cell_type": "code",
   "execution_count": 87,
   "metadata": {},
   "outputs": [
    {
     "name": "stdout",
     "output_type": "stream",
     "text": [
      "False\n"
     ]
    }
   ],
   "source": [
    "# isalnum method\n",
    "\n",
    "txt = \"Sector 7\"\n",
    "print(txt.isalnum())"
   ]
  },
  {
   "cell_type": "code",
   "execution_count": 88,
   "metadata": {},
   "outputs": [
    {
     "name": "stdout",
     "output_type": "stream",
     "text": [
      "True\n"
     ]
    }
   ],
   "source": [
    "# isalpha method\n",
    "\n",
    "txt = \"Sector\"\n",
    "print(txt.isalpha())"
   ]
  },
  {
   "cell_type": "code",
   "execution_count": 89,
   "metadata": {},
   "outputs": [
    {
     "name": "stdout",
     "output_type": "stream",
     "text": [
      "True\n",
      "False\n"
     ]
    }
   ],
   "source": [
    "# isdecimal method\n",
    "\n",
    "txt = \"01\"\n",
    "txt1 = \"hello\"\n",
    "print(txt.isdecimal())\n",
    "print(txt1.isdecimal())"
   ]
  },
  {
   "cell_type": "code",
   "execution_count": 90,
   "metadata": {},
   "outputs": [
    {
     "name": "stdout",
     "output_type": "stream",
     "text": [
      "my name is prashant tyagi\n",
      "True\n"
     ]
    }
   ],
   "source": [
    "# islower method\n",
    "\n",
    "txt = \"My name is PRASHANT TYAGI\"\n",
    "a = txt.casefold()\n",
    "print(a)\n",
    "print(a.islower())\n"
   ]
  },
  {
   "cell_type": "code",
   "execution_count": 91,
   "metadata": {},
   "outputs": [
    {
     "name": "stdout",
     "output_type": "stream",
     "text": [
      "True\n",
      "False\n"
     ]
    }
   ],
   "source": [
    "# isdigit method\n",
    "\n",
    "txt = \"123\"\n",
    "txt1 = \"Prashant\"\n",
    "print(txt.isdigit())\n",
    "print(txt1.isdigit())"
   ]
  },
  {
   "cell_type": "code",
   "execution_count": 92,
   "metadata": {},
   "outputs": [
    {
     "name": "stdout",
     "output_type": "stream",
     "text": [
      "True\n",
      "True\n",
      "False\n",
      "False\n"
     ]
    }
   ],
   "source": [
    "#identifier method\n",
    "\n",
    "a = \"hello\"\n",
    "b = \"hello_132\"\n",
    "c = \"123hello\"\n",
    "d = \"hello world\"\n",
    "\n",
    "print(a.isidentifier())\n",
    "print(b.isidentifier())\n",
    "print(c.isidentifier())\n",
    "print(d.isidentifier())"
   ]
  },
  {
   "cell_type": "code",
   "execution_count": 93,
   "metadata": {},
   "outputs": [
    {
     "name": "stdout",
     "output_type": "stream",
     "text": [
      "True\n",
      "False\n",
      "False\n",
      "False\n"
     ]
    }
   ],
   "source": [
    "# isnumeric method\n",
    "\n",
    "a = \"132456\"\n",
    "b = \"&sup13\"\n",
    "c = \"1.2\"\n",
    "d = \"32km\"\n",
    "print(a.isnumeric())\n",
    "print(b.isnumeric())\n",
    "print(c.isnumeric())\n",
    "print(d.isnumeric())"
   ]
  },
  {
   "cell_type": "code",
   "execution_count": 94,
   "metadata": {},
   "outputs": [
    {
     "name": "stdout",
     "output_type": "stream",
     "text": [
      "True\n",
      "True\n",
      "False\n",
      "True\n"
     ]
    }
   ],
   "source": [
    "#  isprintable method\n",
    "\n",
    "txt = \"My Name Is Prashant\"\n",
    "print(txt.isprintable())\n",
    "\n",
    "# isspace method\n",
    "txt1 = \"  \"\n",
    "print(txt1.isspace())\n",
    "\n",
    "# istitle() Method\n",
    "txt2= \"22 name\"\n",
    "print(txt2.istitle())\n",
    "print(txt.istitle())\n"
   ]
  },
  {
   "cell_type": "code",
   "execution_count": 95,
   "metadata": {},
   "outputs": [
    {
     "name": "stdout",
     "output_type": "stream",
     "text": [
      "True\n"
     ]
    }
   ],
   "source": [
    "# isupper() Method\n",
    "name= \"PRASHANT\"\n",
    "print(name.isupper())"
   ]
  },
  {
   "cell_type": "code",
   "execution_count": 96,
   "metadata": {},
   "outputs": [
    {
     "name": "stdout",
     "output_type": "stream",
     "text": [
      "name&John&country&Norway\n"
     ]
    }
   ],
   "source": [
    "# join() Method\n",
    "myTuple = (\"name\", \"John\", \"country\", \"Norway\")\n",
    "mySeparator = \"&\"\n",
    "\n",
    "x =  mySeparator.join(myTuple)\n",
    "print(x)"
   ]
  },
  {
   "cell_type": "code",
   "execution_count": 97,
   "metadata": {},
   "outputs": [
    {
     "name": "stdout",
     "output_type": "stream",
     "text": [
      "Prashant             is my name\n",
      "Prashant 00000000000 is my name\n"
     ]
    }
   ],
   "source": [
    "# ljust() Method\n",
    "txt= \"Prashant \"\n",
    "\n",
    "print(txt.ljust(20), \"is my name\")\n",
    "print(txt.ljust(20, \"0\"), \"is my name\")"
   ]
  },
  {
   "cell_type": "code",
   "execution_count": 98,
   "metadata": {},
   "outputs": [
    {
     "name": "stdout",
     "output_type": "stream",
     "text": [
      "Prashant\n"
     ]
    }
   ],
   "source": [
    "#lstrip() Method\n",
    "txt = \",,,,,,,,,,xxxxxxxxzzzzz&&&&**Prashant\"\n",
    "a = txt.lstrip(\",xz&*\")\n",
    "print(a)"
   ]
  },
  {
   "cell_type": "code",
   "execution_count": 99,
   "metadata": {},
   "outputs": [
    {
     "name": "stdout",
     "output_type": "stream",
     "text": [
      "good night Wohn\n",
      "giid liglt Will\n",
      "iid i Wi\n"
     ]
    }
   ],
   "source": [
    "# maketrans() Method\n",
    "\n",
    "txt = \"good night John\"\n",
    "myTable = str.maketrans(\"J\", \"W\")\n",
    "print(txt.translate(myTable))\n",
    "\n",
    "x = \"nhoJ\"\n",
    "y = \"lliW\"\n",
    "myTable1 = str.maketrans(x , y)\n",
    "print(txt.translate(myTable1))\n",
    "\n",
    "x = \"nhoJ\"\n",
    "y = \"lliW\"\n",
    "z = \"thgn\"\n",
    "myTable2 = str.maketrans(x , y, z)\n",
    "print(txt.translate(myTable2))"
   ]
  },
  {
   "cell_type": "code",
   "execution_count": 100,
   "metadata": {},
   "outputs": [
    {
     "name": "stdout",
     "output_type": "stream",
     "text": [
      "('I could ', 'eat', ' bananas all day')\n",
      "('I could eat bananas all day', '', '')\n"
     ]
    }
   ],
   "source": [
    "# partition() Method\n",
    "\n",
    "txt = \"I could eat bananas all day\"\n",
    "print(txt.partition(\"eat\"))\n",
    "\n",
    "#If the specified value is not found then\n",
    "\n",
    "txt1 = \"I could eat bananas all day\"\n",
    "print(txt.partition(\"apple\"))"
   ]
  },
  {
   "cell_type": "code",
   "execution_count": 102,
   "metadata": {},
   "outputs": [
    {
     "name": "stdout",
     "output_type": "stream",
     "text": [
      "I could eat apple all day\n",
      "two two one was a race horse, two two was one too.\n"
     ]
    }
   ],
   "source": [
    "# replace() Method\n",
    "\n",
    "txt = \"I could eat bananas all day\"\n",
    "print(txt.replace(\"bananas\", \"apple\"))\n",
    "\n",
    "# string.replace(oldvalue, newvalue, count)\n",
    "\n",
    "txt_1 = \"one one one was a race horse, two two was one too.\"\n",
    "print(txt_1.replace(\"one\", \"two\", 2))"
   ]
  },
  {
   "cell_type": "code",
   "execution_count": 17,
   "metadata": {},
   "outputs": [
    {
     "name": "stdout",
     "output_type": "stream",
     "text": [
      "9\n",
      "4\n"
     ]
    }
   ],
   "source": [
    "# rfind() Method\n",
    "\n",
    "txt = \" My name is prashant\"\n",
    "print(txt.rfind(\"i\"))\n",
    "\n",
    "#  rindex() Method\n",
    "print(txt.rindex(\"n\",1,13))"
   ]
  },
  {
   "cell_type": "code",
   "execution_count": 22,
   "metadata": {},
   "outputs": [
    {
     "name": "stdout",
     "output_type": "stream",
     "text": [
      "('I could eat bananas all day, ', 'bananas', ' are my favorite fruit')\n"
     ]
    }
   ],
   "source": [
    "# rpartition() method\n",
    "txt = \"I could eat bananas all day, bananas are my favorite fruit\"\n",
    "print(txt.rpartition(\"bananas\"))\n"
   ]
  },
  {
   "cell_type": "code",
   "execution_count": 61,
   "metadata": {},
   "outputs": [
    {
     "name": "stdout",
     "output_type": "stream",
     "text": [
      "['apple, banana, cherry, apple', 'banana', 'cherry']\n",
      "PRASHANT\n"
     ]
    }
   ],
   "source": [
    "# rsplit() Method\n",
    "txt = \"apple, banana, cherry, apple, banana, cherry\"\n",
    "print(txt.rsplit(\", \", 2))\n",
    "\n",
    "# rstrip() Method\n",
    "txt1 = \"PRASHANT..,.....&&###$$#,,...\"\n",
    "print(txt1.rstrip(\",.#$&\"))"
   ]
  },
  {
   "cell_type": "code",
   "execution_count": 88,
   "metadata": {},
   "outputs": [
    {
     "name": "stdout",
     "output_type": "stream",
     "text": [
      "['I could eat bananas all ', ' day bananas are my favorite fruit']\n",
      "True\n"
     ]
    }
   ],
   "source": [
    "#   splitlines() Method\n",
    "txt = \"I could eat bananas all \\n day bananas are my favorite fruit\"\n",
    "print(txt.splitlines())\n",
    "\n",
    "# startswith() Method\n",
    "txt1 = \"Hello, welcome to my world.\"\n",
    "print(txt1.startswith(\"welcome\",7,20))"
   ]
  },
  {
   "cell_type": "code",
   "execution_count": 94,
   "metadata": {},
   "outputs": [
    {
     "name": "stdout",
     "output_type": "stream",
     "text": [
      "banana\n",
      "hELLO, WELCOME TO mY world.\n",
      "Hello, Welcome To My 2Nd World.\n"
     ]
    }
   ],
   "source": [
    "#   strip() Method\n",
    "txt = \"     banana     \"\n",
    "print(txt.strip())\n",
    "\n",
    "#   swapcase() Method\n",
    "txt1 = \"Hello, welcome to My WORLD.\"\n",
    "print(txt1.swapcase())\n",
    "\n",
    "#   title() Method\n",
    "txt2 = \"hello, welcome to My 2nd WORLD.\"\n",
    "print(txt2.title())"
   ]
  },
  {
   "cell_type": "code",
   "execution_count": 100,
   "metadata": {},
   "outputs": [
    {
     "name": "stdout",
     "output_type": "stream",
     "text": [
      "hello, welcome to My 3rd WORLD.\n",
      "hello, welcome to My 1st WORLD.\n"
     ]
    }
   ],
   "source": [
    "# translate() Method\n",
    "txt2 = \"hello, welcome to My 2nd WORLD.\"\n",
    "x = str.maketrans(\"2nd\", \"3rd\")\n",
    "print(txt2.translate(x))\n",
    "\n",
    "txt3 = \"hello, welcome to My 1nd WORLD.\"\n",
    "x = \"dn\"\n",
    "y = \"ts\"\n",
    "myTable = str.maketrans(x ,y)\n",
    "print(txt3.translate(myTable))"
   ]
  },
  {
   "cell_type": "code",
   "execution_count": 106,
   "metadata": {},
   "outputs": [
    {
     "name": "stdout",
     "output_type": "stream",
     "text": [
      "0000000010\n",
      "hello world\n"
     ]
    }
   ],
   "source": [
    "# zfill() method\n",
    "\n",
    "txt= \"10\"\n",
    "txt_1 = \"hello world\"\n",
    "print(txt.zfill(10))\n",
    "print(txt_1.zfill(10))"
   ]
  },
  {
   "cell_type": "code",
   "execution_count": null,
   "metadata": {},
   "outputs": [],
   "source": []
  }
 ],
 "metadata": {
  "kernelspec": {
   "display_name": "Python 3",
   "language": "python",
   "name": "python3"
  },
  "language_info": {
   "codemirror_mode": {
    "name": "ipython",
    "version": 3
   },
   "file_extension": ".py",
   "mimetype": "text/x-python",
   "name": "python",
   "nbconvert_exporter": "python",
   "pygments_lexer": "ipython3",
   "version": "3.11.3"
  },
  "orig_nbformat": 4
 },
 "nbformat": 4,
 "nbformat_minor": 2
}
